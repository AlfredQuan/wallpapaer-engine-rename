{
 "cells": [
  {
   "cell_type": "code",
   "execution_count": null,
   "metadata": {},
   "outputs": [],
   "source": [
    "\n",
    "import re\n",
    "import os\n",
    "import json\n",
    "filepath = (r\"D:\\Entertainment\\porn\\wallpaper转出\")\n",
    "fileList = os.listdir(filepath) # 获取目标文件夹下所有文件\n",
    "\n",
    "#print(\"修改前：\" + str(fileList)) # 输出此文件夹中包含的文件名称\n",
    "\n",
    "currentpath = os.getcwd() # 得到进程当前工作目录\n",
    "\n",
    "os.chdir(filepath) # 将当前工作目录修改为待修改文件夹的位置"
   ]
  },
  {
   "cell_type": "code",
   "execution_count": null,
   "metadata": {},
   "outputs": [],
   "source": [
    "#Python-替换或去除不能用于文件名的字符\n",
    "def validateTitle(title):\n",
    "    rstr = r\"[\\/\\\\\\:\\*\\?\\\"\\<\\>\\|]\"  # '/ \\ : * ? \" < > |'\n",
    "    new_title = re.sub(rstr, \"_\", title)  # 替换为下划线\n",
    "    return new_title"
   ]
  },
  {
   "cell_type": "code",
   "execution_count": null,
   "metadata": {},
   "outputs": [],
   "source": [
    "#for fileName in fileList:\n",
    "#filename = fileList[0]\n",
    "for filename in fileList:\n",
    "    jsonfilepath = os.path.join(filepath,filename,\"project.json\" )\n",
    "    #print(jsonfilepath)\n",
    "    try:\n",
    "        with open(jsonfilepath,\"r\",encoding=\"UTF-8\") as f:\n",
    "            jsonfile = json.load(f)\n",
    "            title = validateTitle(jsonfile['title'])\n",
    "\n",
    "        os.rename(filename, title)\n",
    "        print(\"已更改\" + filename + \"为\" + title)\n",
    "    except:\n",
    "        print(\"更改\" + filename + \"为\" + title+ \"失败，文件可能已删除\")\n"
   ]
  },
  {
   "cell_type": "code",
   "execution_count": null,
   "metadata": {},
   "outputs": [],
   "source": []
  }
 ],
 "metadata": {
  "kernelspec": {
   "display_name": "Python 3",
   "language": "python",
   "name": "python3"
  },
  "language_info": {
   "codemirror_mode": {
    "name": "ipython",
    "version": 3
   },
   "file_extension": ".py",
   "mimetype": "text/x-python",
   "name": "python",
   "nbconvert_exporter": "python",
   "pygments_lexer": "ipython3",
   "version": "3.7.0"
  }
 },
 "nbformat": 4,
 "nbformat_minor": 2
}
